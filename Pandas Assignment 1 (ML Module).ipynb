{
 "cells": [
  {
   "cell_type": "code",
   "execution_count": null,
   "id": "575acf48-0708-4cca-8de0-cfa86b036673",
   "metadata": {},
   "outputs": [],
   "source": [
    "Q1. Create a Pandas Series that contains the following data: 4, 8, 15, 16, 23, and 42. Then, print the series."
   ]
  },
  {
   "cell_type": "code",
   "execution_count": null,
   "id": "7d55390e-beb8-4da0-b279-33cb83a19dc1",
   "metadata": {},
   "outputs": [],
   "source": [
    "import pandas as pd"
   ]
  },
  {
   "cell_type": "code",
   "execution_count": 16,
   "id": "b536cf74-2552-448b-9cfc-cca65e11892f",
   "metadata": {},
   "outputs": [
    {
     "name": "stdout",
     "output_type": "stream",
     "text": [
      "0     4\n",
      "1     8\n",
      "2    15\n",
      "3    16\n",
      "4    23\n",
      "5    42\n",
      "dtype: int64\n"
     ]
    }
   ],
   "source": [
    "data = [4,8,15,16,23,42]\n",
    "ser = pd.Series(data)\n",
    "print(ser)"
   ]
  },
  {
   "cell_type": "code",
   "execution_count": null,
   "id": "7cd9c358-d98a-4fe3-9773-6e60c2ca7bcd",
   "metadata": {},
   "outputs": [],
   "source": [
    "Q2. Create a variable of list type containing 10 elements in it, and apply pandas.Series function on the\n",
    "variable print it."
   ]
  },
  {
   "cell_type": "code",
   "execution_count": 15,
   "id": "f21f0f7d-6082-4301-a83e-d66d9acf3d8f",
   "metadata": {},
   "outputs": [
    {
     "name": "stdout",
     "output_type": "stream",
     "text": [
      "0            1\n",
      "1            2\n",
      "2      shaheem\n",
      "3          2.5\n",
      "4         True\n",
      "5            3\n",
      "6            5\n",
      "7    {1, 2, 3}\n",
      "8        False\n",
      "9    [1, 2, 3]\n",
      "dtype: object\n"
     ]
    }
   ],
   "source": [
    "list= [1,2,\"shaheem\",2.5,True,3,5,{1,2,3},False,[1,2,3]]\n",
    "ser2= pd.Series(list)\n",
    "print(ser2)"
   ]
  },
  {
   "cell_type": "code",
   "execution_count": null,
   "id": "aeb083d7-01f3-436f-b87a-dfe95b348109",
   "metadata": {},
   "outputs": [],
   "source": [
    "Q3. Create a Pandas DataFrame that contains the following data:"
   ]
  },
  {
   "cell_type": "code",
   "execution_count": 20,
   "id": "e3c837da-15d6-471d-8ed9-75ede7dfe9ef",
   "metadata": {},
   "outputs": [
    {
     "name": "stdout",
     "output_type": "stream",
     "text": [
      "     Name  Age  Gender\n",
      "0   Alice   25  Female\n",
      "1     Bob   30    Male\n",
      "2  Claire   27  Female\n"
     ]
    }
   ],
   "source": [
    "Data1 = {\"Name\": [\"Alice\", \"Bob\", \"Claire\"], \"Age\":[25,30,27], \"Gender\":[\"Female\", \"Male\", \"Female\"]}\n",
    "df = pd.DataFrame(Data1)\n",
    "print(df)"
   ]
  },
  {
   "cell_type": "code",
   "execution_count": null,
   "id": "a1af4a6d-b69c-45b6-9f9a-38d4386388fb",
   "metadata": {},
   "outputs": [],
   "source": [
    "Q4. What is ‘DataFrame’ in pandas and how is it different from pandas.series?"
   ]
  },
  {
   "cell_type": "code",
   "execution_count": null,
   "id": "5609d020-0a5d-4753-8d61-eb92f67d7a85",
   "metadata": {},
   "outputs": [],
   "source": [
    "DataFrame in pandas is nothing but a tabular data with different rows and columns and designed for \n",
    "handling structured and tabular data. It is 2 dimenstional data stcuture.\n",
    "\n",
    "Pandas Series is used to handle and represent single column of data. Hence it is one dimentional data structure\n",
    "For Example:"
   ]
  },
  {
   "cell_type": "code",
   "execution_count": 26,
   "id": "731b4bdf-a640-4b09-b7ae-61f3ebf92905",
   "metadata": {},
   "outputs": [
    {
     "name": "stdout",
     "output_type": "stream",
     "text": [
      "     Name  Age  Gender\n",
      "0   Alice   25  Female\n",
      "1     Bob   30    Male\n",
      "2  Claire   27  Female\n",
      "\n",
      "\n",
      "\n",
      " While \n",
      "\n",
      "\n",
      " 0     4\n",
      "1     8\n",
      "2    15\n",
      "3    16\n",
      "4    23\n",
      "5    42\n",
      "dtype: int64\n"
     ]
    }
   ],
   "source": [
    "#DataFrame\n",
    "Data1 = {\"Name\": [\"Alice\", \"Bob\", \"Claire\"], \"Age\":[25,30,27], \"Gender\":[\"Female\", \"Male\", \"Female\"]}\n",
    "df = pd.DataFrame(Data1)\n",
    "print(df)\n",
    "\n",
    "#Pandas.Series\n",
    "\n",
    "data = [4,8,15,16,23,42]\n",
    "ser = pd.Series(data)\n",
    "print(\"\\n\\n\\n While \\n\\n\\n\", ser)"
   ]
  },
  {
   "cell_type": "code",
   "execution_count": null,
   "id": "aca6903b-dcda-40a0-9bd8-b6ef9f6c008d",
   "metadata": {},
   "outputs": [],
   "source": [
    "Q5. What are some common functions you can use to manipulate data in a Pandas DataFrame? Can\n",
    "you give an example of when you might use one of these functions?"
   ]
  },
  {
   "cell_type": "code",
   "execution_count": 27,
   "id": "341896de-5cd1-47db-8de4-5eb6d9e45a32",
   "metadata": {},
   "outputs": [
    {
     "data": {
      "text/html": [
       "<div>\n",
       "<style scoped>\n",
       "    .dataframe tbody tr th:only-of-type {\n",
       "        vertical-align: middle;\n",
       "    }\n",
       "\n",
       "    .dataframe tbody tr th {\n",
       "        vertical-align: top;\n",
       "    }\n",
       "\n",
       "    .dataframe thead th {\n",
       "        text-align: right;\n",
       "    }\n",
       "</style>\n",
       "<table border=\"1\" class=\"dataframe\">\n",
       "  <thead>\n",
       "    <tr style=\"text-align: right;\">\n",
       "      <th></th>\n",
       "      <th>Name</th>\n",
       "      <th>Age</th>\n",
       "      <th>Gender</th>\n",
       "    </tr>\n",
       "  </thead>\n",
       "  <tbody>\n",
       "    <tr>\n",
       "      <th>0</th>\n",
       "      <td>Alice</td>\n",
       "      <td>25</td>\n",
       "      <td>Female</td>\n",
       "    </tr>\n",
       "    <tr>\n",
       "      <th>1</th>\n",
       "      <td>Bob</td>\n",
       "      <td>30</td>\n",
       "      <td>Male</td>\n",
       "    </tr>\n",
       "    <tr>\n",
       "      <th>2</th>\n",
       "      <td>Claire</td>\n",
       "      <td>27</td>\n",
       "      <td>Female</td>\n",
       "    </tr>\n",
       "  </tbody>\n",
       "</table>\n",
       "</div>"
      ],
      "text/plain": [
       "     Name  Age  Gender\n",
       "0   Alice   25  Female\n",
       "1     Bob   30    Male\n",
       "2  Claire   27  Female"
      ]
     },
     "execution_count": 27,
     "metadata": {},
     "output_type": "execute_result"
    }
   ],
   "source": [
    "df.head()"
   ]
  },
  {
   "cell_type": "code",
   "execution_count": 28,
   "id": "6cf08900-9825-4f20-89ac-109d5ba72faa",
   "metadata": {},
   "outputs": [
    {
     "data": {
      "text/html": [
       "<div>\n",
       "<style scoped>\n",
       "    .dataframe tbody tr th:only-of-type {\n",
       "        vertical-align: middle;\n",
       "    }\n",
       "\n",
       "    .dataframe tbody tr th {\n",
       "        vertical-align: top;\n",
       "    }\n",
       "\n",
       "    .dataframe thead th {\n",
       "        text-align: right;\n",
       "    }\n",
       "</style>\n",
       "<table border=\"1\" class=\"dataframe\">\n",
       "  <thead>\n",
       "    <tr style=\"text-align: right;\">\n",
       "      <th></th>\n",
       "      <th>Name</th>\n",
       "      <th>Age</th>\n",
       "      <th>Gender</th>\n",
       "    </tr>\n",
       "  </thead>\n",
       "  <tbody>\n",
       "    <tr>\n",
       "      <th>0</th>\n",
       "      <td>Alice</td>\n",
       "      <td>25</td>\n",
       "      <td>Female</td>\n",
       "    </tr>\n",
       "    <tr>\n",
       "      <th>1</th>\n",
       "      <td>Bob</td>\n",
       "      <td>30</td>\n",
       "      <td>Male</td>\n",
       "    </tr>\n",
       "    <tr>\n",
       "      <th>2</th>\n",
       "      <td>Claire</td>\n",
       "      <td>27</td>\n",
       "      <td>Female</td>\n",
       "    </tr>\n",
       "  </tbody>\n",
       "</table>\n",
       "</div>"
      ],
      "text/plain": [
       "     Name  Age  Gender\n",
       "0   Alice   25  Female\n",
       "1     Bob   30    Male\n",
       "2  Claire   27  Female"
      ]
     },
     "execution_count": 28,
     "metadata": {},
     "output_type": "execute_result"
    }
   ],
   "source": [
    "df.tail()"
   ]
  },
  {
   "cell_type": "code",
   "execution_count": 29,
   "id": "198f9888-7bba-4aa3-9c30-ba710990068b",
   "metadata": {},
   "outputs": [
    {
     "data": {
      "text/plain": [
       "0     Alice\n",
       "1       Bob\n",
       "2    Claire\n",
       "Name: Name, dtype: object"
      ]
     },
     "execution_count": 29,
     "metadata": {},
     "output_type": "execute_result"
    }
   ],
   "source": [
    "df[\"Name\"]"
   ]
  },
  {
   "cell_type": "code",
   "execution_count": 42,
   "id": "42fbdb64-2460-4a11-9b2a-62563eb7c5e1",
   "metadata": {},
   "outputs": [
    {
     "data": {
      "text/plain": [
       "Index(['Name', 'Age', 'Gender'], dtype='object')"
      ]
     },
     "execution_count": 42,
     "metadata": {},
     "output_type": "execute_result"
    }
   ],
   "source": [
    "df.columns"
   ]
  },
  {
   "cell_type": "code",
   "execution_count": 43,
   "id": "ec52e29a-9aae-4b7e-8d36-e6eefea707a4",
   "metadata": {},
   "outputs": [
    {
     "data": {
      "text/plain": [
       "Name      object\n",
       "Age        int64\n",
       "Gender    object\n",
       "dtype: object"
      ]
     },
     "execution_count": 43,
     "metadata": {},
     "output_type": "execute_result"
    }
   ],
   "source": [
    "df.dtypes"
   ]
  },
  {
   "cell_type": "code",
   "execution_count": null,
   "id": "41aff776-e1a9-4560-924d-787fd9dd72e5",
   "metadata": {},
   "outputs": [],
   "source": [
    "Q6. Which of the following is mutable in nature Series, DataFrame, Panel?\n",
    "All Pandas data structures are value mutable (can be changed) and except Series all are size mutable\n",
    "Series (in pandas) is size-immutable. That means, once a Series object is created, it cannot be changed. \n",
    "If we try to change it, it creates a new Series.\n",
    "In Panel Data and size are mutable.\n"
   ]
  },
  {
   "cell_type": "code",
   "execution_count": null,
   "id": "973530de-16c9-4be2-8e7f-694d26a8d804",
   "metadata": {},
   "outputs": [],
   "source": [
    "Q7. Create a DataFrame using multiple Series. Explain with an example."
   ]
  },
  {
   "cell_type": "code",
   "execution_count": 46,
   "id": "e200bb96-ee97-43b9-8a7b-8bb5504b9f77",
   "metadata": {},
   "outputs": [
    {
     "name": "stdout",
     "output_type": "stream",
     "text": [
      "      Name  ID  Age  Address\n",
      "0  Shaheem   1   20   Mumbai\n",
      "1     Ajay   2   21     Pune\n",
      "2     Soni   3   21  Lucknow\n"
     ]
    }
   ],
   "source": [
    "d_name= pd.series[ \"Shaheem\", \"Ajay\", \"Soni\" ]\n",
    "d_id= [ 1,2,3]\n",
    "d_age= [20,21,21]\n",
    "d_address= [\"Mumbai\",\"Pune\",\"Lucknow\"]\n",
    "\n",
    "data2= {\"Name\": d_name, \"ID\": d_id, \"Age\": d_age, \"Address\": d_address}\n",
    "data3 = pd.DataFrame(data2)\n",
    "print(data3)"
   ]
  },
  {
   "cell_type": "code",
   "execution_count": null,
   "id": "4efc3cd2-db10-450f-bea7-a61604466874",
   "metadata": {},
   "outputs": [],
   "source": []
  }
 ],
 "metadata": {
  "kernelspec": {
   "display_name": "Python 3 (ipykernel)",
   "language": "python",
   "name": "python3"
  },
  "language_info": {
   "codemirror_mode": {
    "name": "ipython",
    "version": 3
   },
   "file_extension": ".py",
   "mimetype": "text/x-python",
   "name": "python",
   "nbconvert_exporter": "python",
   "pygments_lexer": "ipython3",
   "version": "3.10.8"
  }
 },
 "nbformat": 4,
 "nbformat_minor": 5
}
